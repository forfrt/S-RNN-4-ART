{
 "cells": [
  {
   "cell_type": "code",
   "execution_count": 3,
   "id": "6db3bac5-6f28-4e20-830a-a0a16661d318",
   "metadata": {},
   "outputs": [
    {
     "name": "stdout",
     "output_type": "stream",
     "text": [
      "/mnt/c/Users/forfrt/OneDrive/Documents/Research/PhD/Saarland/ART\n"
     ]
    }
   ],
   "source": [
    "import os\n",
    "import sys\n",
    "from pathlib import Path # if you haven't already done so\n",
    "file = Path(os.getcwd()).resolve()\n",
    "parent, root = file.parent, file.parents[1]\n",
    "print(file)\n",
    "# print(parent, root)\n",
    "sys.path.append(str(parent))\n",
    "# sys.path.append(\"..\")\n",
    "\n",
    "# # Additionally remove the current file's directory from sys.path\n",
    "# try:\n",
    "#     sys.path.remove(str(parent))\n",
    "# except ValueError: # Already removed\n",
    "#     pass"
   ]
  },
  {
   "cell_type": "code",
   "execution_count": 12,
   "id": "b0745bf6-ec1d-4cfa-a1a3-3429d5d905d5",
   "metadata": {},
   "outputs": [],
   "source": [
    "\n",
    "output_file_li=[r\"FR_output_features.csv\", r\"IT_output_features.csv\", r\"SK_output_features.csv\"]\n",
    "csv_file_li=[r\"FR_wav_info.csv\", r\"IT_wav_info.csv\", r\"SK_wav_info.csv\"]"
   ]
  },
  {
   "cell_type": "code",
   "execution_count": 16,
   "id": "3094083b-bfec-4c6f-8493-be3a2fceceb6",
   "metadata": {},
   "outputs": [],
   "source": [
    "# import re\n",
    "import pandas as pd\n",
    "\n",
    "for i in range(len(output_file_li)):\n",
    "    \n",
    "    output_df=pd.read_csv(output_file_li[i])\n",
    "    csv_df=pd.read_csv(csv_file_li[i])\n",
    "    \n",
    "    merged_df=pd.merge(output_df, csv_df, left_on='File Name', right_on='file_name')\n",
    "    merged_df.drop(columns=['File Name'])\n",
    "    merged_df.to_csv(output_file_li[i])"
   ]
  }
 ],
 "metadata": {
  "kernelspec": {
   "display_name": "Python 3 (ipykernel)",
   "language": "python",
   "name": "python3"
  },
  "language_info": {
   "codemirror_mode": {
    "name": "ipython",
    "version": 3
   },
   "file_extension": ".py",
   "mimetype": "text/x-python",
   "name": "python",
   "nbconvert_exporter": "python",
   "pygments_lexer": "ipython3",
   "version": "3.8.12"
  }
 },
 "nbformat": 4,
 "nbformat_minor": 5
}
