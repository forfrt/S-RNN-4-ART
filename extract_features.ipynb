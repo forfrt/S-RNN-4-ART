{
 "cells": [
  {
   "cell_type": "code",
   "execution_count": 10,
   "id": "9cc8fe40-7477-4a13-8315-e6472ca4e17b",
   "metadata": {},
   "outputs": [],
   "source": [
    "import os\n",
    "import sys\n",
    "from pathlib import Path # if you haven't already done so\n",
    "file = Path(os.getcwd()).resolve()\n",
    "parent, root = file.parent, file.parents[1]\n",
    "# print(file)\n",
    "# print(parent, root)\n",
    "sys.path.append(str(parent))\n",
    "# sys.path.append(\"..\")\n",
    "\n",
    "# # Additionally remove the current file's directory from sys.path\n",
    "# try:\n",
    "#     sys.path.remove(str(parent))\n",
    "# except ValueError: # Already removed\n",
    "#     pass"
   ]
  },
  {
   "cell_type": "code",
   "execution_count": 11,
   "id": "faefa598-93dd-4409-b2b0-a8dad7f57484",
   "metadata": {},
   "outputs": [],
   "source": [
    "dataset_dir_li=[r\"./FR/wav/\", r\"./IT/wav/\", r\"./SK/wav/\"]\n",
    "output_file_li=[r\"FR_output_features.csv\", r\"IT_output_features.csv\", r\"SK_output_features.csv\"]"
   ]
  },
  {
   "cell_type": "code",
   "execution_count": 9,
   "id": "2d273d44-48fb-43af-9f70-1b6f4950d5a0",
   "metadata": {},
   "outputs": [
    {
     "name": "stdout",
     "output_type": "stream",
     "text": [
      "mean_pitch, max_pitch 52.44447222275884 195.00827236764988\n",
      "mean_intensity, max_intensity 68.5725947297317 78.96270293537638\n",
      "jitter 0.027122118771747437\n",
      "shimmer 0.08819099350790778\n",
      "nhr 16.5421896\n"
     ]
    }
   ],
   "source": [
    "from parselmouth.praat import call\n",
    "import re\n",
    "import numpy as np\n",
    "\n",
    "snd = parselmouth.Sound(r\"./SK/wav/imitation/SK0102_1_imitation555_1_mono.wav\")\n",
    "\n",
    "# Extract pitch\n",
    "pitch = snd.to_pitch()\n",
    "pitch_values = pitch.selected_array['frequency']\n",
    "\n",
    "mean_pitch = np.mean(pitch_values)\n",
    "max_pitch = np.max(pitch_values)\n",
    "print(\"mean_pitch, max_pitch\", mean_pitch, max_pitch)\n",
    "\n",
    "# Extract intensity\n",
    "intensity = snd.to_intensity()\n",
    "mean_intensity = intensity.get_average()\n",
    "max_intensity = intensity.get_maximum()\n",
    "print(\"mean_intensity, max_intensity\", mean_intensity, max_intensity)\n",
    "\n",
    "# Extract jitter and shimmer\n",
    "pointProcess = parselmouth.praat.call(snd, \"To PointProcess (periodic, cc)\", 75, 600)\n",
    "jitter = parselmouth.praat.call(pointProcess, \"Get jitter (local)\", 0, 0, 0.0001, 0.02, 1.3)\n",
    "print(\"jitter\", jitter)\n",
    "shimmer = parselmouth.praat.call([snd, pointProcess], \"Get shimmer (local)\", 0, 0, 0.0001, 0.02, 1.3, 1.6)\n",
    "print(\"shimmer\", shimmer)\n",
    "\n",
    "# Extract NHR\n",
    "harmonicity = snd.to_harmonicity_cc()\n",
    "match = re.search(r\"Average: ([\\d\\.]+) dB\", str(harmonicity))\n",
    "# If found, extract the value\n",
    "if match:\n",
    "    nhr = float(match.group(1))\n",
    "else:\n",
    "    nhr=None\n",
    "\n",
    "print(\"nhr\", nhr)\n",
    "\n"
   ]
  },
  {
   "cell_type": "code",
   "execution_count": 12,
   "id": "3408bffb-9a5f-4f21-b838-ee070859290d",
   "metadata": {},
   "outputs": [],
   "source": [
    "import parselmouth\n",
    "import os\n",
    "import csv\n",
    "\n",
    "def extract_features(audio_file):\n",
    "    snd = parselmouth.Sound(audio_file)\n",
    "    \n",
    "        # Extract pitch\n",
    "    pitch = snd.to_pitch()\n",
    "    pitch_values = pitch.selected_array['frequency']\n",
    "    \n",
    "    mean_pitch = np.mean(pitch_values)\n",
    "    max_pitch = np.max(pitch_values)\n",
    "    # print(\"mean_pitch, max_pitch\", mean_pitch, max_pitch)\n",
    "    \n",
    "    # Extract intensity\n",
    "    intensity = snd.to_intensity()\n",
    "    mean_intensity = intensity.get_average()\n",
    "    max_intensity = intensity.get_maximum()\n",
    "    # print(\"mean_intensity, max_intensity\", mean_intensity, max_intensity)\n",
    "    \n",
    "    # Extract jitter and shimmer\n",
    "    pointProcess = parselmouth.praat.call(snd, \"To PointProcess (periodic, cc)\", 75, 600)\n",
    "    jitter = parselmouth.praat.call(pointProcess, \"Get jitter (local)\", 0, 0, 0.0001, 0.02, 1.3)\n",
    "    # print(\"jitter\", jitter)\n",
    "    shimmer = parselmouth.praat.call([snd, pointProcess], \"Get shimmer (local)\", 0, 0, 0.0001, 0.02, 1.3, 1.6)\n",
    "    # print(\"shimmer\", shimmer)\n",
    "    \n",
    "    # Extract NHR\n",
    "    harmonicity = snd.to_harmonicity_cc()\n",
    "    match = re.search(r\"Average: ([\\d\\.]+) dB\", str(harmonicity))\n",
    "    # If found, extract the value\n",
    "    if match:\n",
    "        nhr = float(match.group(1))\n",
    "    else:\n",
    "        nhr=None\n",
    "    \n",
    "    # print(\"nhr\", nhr)\n",
    "    \n",
    "    return [mean_pitch, max_pitch, mean_intensity, max_intensity, jitter, shimmer, nhr]\n"
   ]
  },
  {
   "cell_type": "code",
   "execution_count": 6,
   "id": "fb3ec820-cb05-4559-82da-c2dac36cfcbb",
   "metadata": {},
   "outputs": [
    {
     "ename": "NameError",
     "evalue": "name 'np' is not defined",
     "output_type": "error",
     "traceback": [
      "\u001b[0;31m---------------------------------------------------------------------------\u001b[0m",
      "\u001b[0;31mNameError\u001b[0m                                 Traceback (most recent call last)",
      "Cell \u001b[0;32mIn[6], line 1\u001b[0m\n\u001b[0;32m----> 1\u001b[0m \u001b[38;5;28mprint\u001b[39m(\u001b[43mextract_features\u001b[49m\u001b[43m(\u001b[49m\u001b[38;5;124;43mr\u001b[39;49m\u001b[38;5;124;43m\"\u001b[39;49m\u001b[38;5;124;43m./SK/wav/imitation/SK0102_1_imitation555_1_mono.wav\u001b[39;49m\u001b[38;5;124;43m\"\u001b[39;49m\u001b[43m)\u001b[49m)\n",
      "Cell \u001b[0;32mIn[5], line 12\u001b[0m, in \u001b[0;36mextract_features\u001b[0;34m(audio_file)\u001b[0m\n\u001b[1;32m      9\u001b[0m pitch \u001b[38;5;241m=\u001b[39m snd\u001b[38;5;241m.\u001b[39mto_pitch()\n\u001b[1;32m     10\u001b[0m pitch_values \u001b[38;5;241m=\u001b[39m pitch\u001b[38;5;241m.\u001b[39mselected_array[\u001b[38;5;124m'\u001b[39m\u001b[38;5;124mfrequency\u001b[39m\u001b[38;5;124m'\u001b[39m]\n\u001b[0;32m---> 12\u001b[0m mean_pitch \u001b[38;5;241m=\u001b[39m \u001b[43mnp\u001b[49m\u001b[38;5;241m.\u001b[39mmean(pitch_values)\n\u001b[1;32m     13\u001b[0m max_pitch \u001b[38;5;241m=\u001b[39m np\u001b[38;5;241m.\u001b[39mmax(pitch_values)\n\u001b[1;32m     14\u001b[0m \u001b[38;5;66;03m# print(\"mean_pitch, max_pitch\", mean_pitch, max_pitch)\u001b[39;00m\n\u001b[1;32m     15\u001b[0m \n\u001b[1;32m     16\u001b[0m \u001b[38;5;66;03m# Extract intensity\u001b[39;00m\n",
      "\u001b[0;31mNameError\u001b[0m: name 'np' is not defined"
     ]
    }
   ],
   "source": [
    "print(extract_features(r\"./SK/wav/imitation/SK0102_1_imitation555_1_mono.wav\"))"
   ]
  },
  {
   "cell_type": "code",
   "execution_count": 13,
   "id": "866e4cc3-3c69-4f3a-ba37-838862ac02cb",
   "metadata": {},
   "outputs": [],
   "source": [
    "def batch_extract_features(dataset_dir, output_csv):\n",
    "    \n",
    "    with open(output_csv, 'w', newline='') as file:\n",
    "        writer = csv.writer(file)\n",
    "        writer.writerow([\"File Name\", \"Mean Pitch\", \"Max Pitch\", \"Mean Intensity\", \"Max Intensity\", \"Jitter\", \"Shimmer\", \"NHR\"])\n",
    "        \n",
    "        for dirpath, dirnames, filenames in os.walk(dataset_dir):\n",
    "            for audio_file in filenames:\n",
    "                if audio_file.endswith('.wav'):\n",
    "                    features = extract_features(os.path.join(dirpath, audio_file))\n",
    "                    # print(\"processing\", os.path.join(dirpath, audio_file))\n",
    "                    # print(features)\n",
    "                    writer.writerow([audio_file] + features)"
   ]
  },
  {
   "cell_type": "code",
   "execution_count": 14,
   "id": "c56b2c7b-4173-4d13-8192-c1d99dabb89f",
   "metadata": {
    "scrolled": true
   },
   "outputs": [
    {
     "name": "stdout",
     "output_type": "stream",
     "text": [
      "--Processing-- ./FR/wav/ FR_output_features.csv\n",
      "--Processing-- ./IT/wav/ IT_output_features.csv\n",
      "--Processing-- ./SK/wav/ SK_output_features.csv\n"
     ]
    }
   ],
   "source": [
    "for i in range(len(dataset_dir_li)):\n",
    "    print(\"--Processing--\", dataset_dir_li[i], output_file_li[i])\n",
    "    batch_extract_features(dataset_dir_li[i], output_file_li[i])\n",
    "\n",
    "batch_extract_features(r\"./FR/wav/\", r\"FR_output_features.csv\")"
   ]
  },
  {
   "cell_type": "code",
   "execution_count": null,
   "id": "b3fb169b-4379-47a8-981a-18862e9a1f84",
   "metadata": {},
   "outputs": [],
   "source": []
  }
 ],
 "metadata": {
  "kernelspec": {
   "display_name": "Python 3 (ipykernel)",
   "language": "python",
   "name": "python3"
  },
  "language_info": {
   "codemirror_mode": {
    "name": "ipython",
    "version": 3
   },
   "file_extension": ".py",
   "mimetype": "text/x-python",
   "name": "python",
   "nbconvert_exporter": "python",
   "pygments_lexer": "ipython3",
   "version": "3.8.12"
  }
 },
 "nbformat": 4,
 "nbformat_minor": 5
}
